{
 "cells": [
  {
   "cell_type": "markdown",
   "id": "ceb8cb87-005a-4875-961a-e88003cde91b",
   "metadata": {},
   "source": [
    "# Bond Biography: Pre-1790s Stock \n",
    "\n",
    "## Overview\n", 
    "The Hamilton Refinancing.\n",
    "\n",
    "##Funding Between 1775-1777\n",
    "- **Loan Office Certificates:**\n",
    "- Developed following Congressional vote to borrow $5M Continental dollars [October 3, 1776].\n",
    "-Typical principal values were between 200 and 10,000 in Continental dollars. Each State had a unique loan office commissioner responsible for keeping track of accounts and paying coupons. Principal payments were due in 1787.\n",
    "- The intial coupon rate of 4% in 1776 was not appealing to private investors. In January/Feburary 1777, Congress provided $15M in new loans and raised interest rate to 6%.\n",
    "- Prior to March 1, 1778, coupon payments made in bills of exchange could be redeemed in France (Spanish dollars). Since certificates were bought with Continental dollars, rapidly decreasing value of the Continental dollar pushed rates of return from 7% to 30%.\n",
    "- Certificates issued between March 1778 and May 1781 were paid in Continental dollars. Meaning they were a fraction of the original return. Coupon payments ceased in 1780 because Congress suspended payment in paper money.\n",
    "-**Revisions of Loan Office Certificates:**\n",
    "- June 28, 1780: Congress made changes to promises on certificates. Certificates issued on/prior to September 1, 1777 were unaffected. Those sold after September 1, 1777 lowered the number of Spanish dollars promised in principal and coupon based on a depreciation schedule. That is, down to "specie value".\n",
    "-**Marketability of Loan Office Certificates:**\n",
    "- Increasing interest on loan certificates create more demand for the certificates.\n",
    "- **Liquidated Debt Certificates:** These bonds had a coupon rate of 6%, paid semi-annually.\n",
    "- **Debt Certificates by John Pierce:** The bonds had varied maturity dates, typically ranging from 10 to 30 years.\n",
    "- **Other Credits:** The bonds were typically issued with a principal value of $1,000.\n"
   ]
  },
  {
   "cell_type": "code",
   "execution_count": null,
   "id": "b2bf0596-2361-46bc-a960-ea204b5c023f",
   "metadata": {},
   "outputs": [],
   "source": []
  }
 ],
 "metadata": {
  "kernelspec": {
   "display_name": "Python 3 (ipykernel)",
   "language": "python",
   "name": "python3"
  },
  "language_info": {
   "codemirror_mode": {
    "name": "ipython",
    "version": 3
   },
   "file_extension": ".py",
   "mimetype": "text/x-python",
   "name": "python",
   "nbconvert_exporter": "python",
   "pygments_lexer": "ipython3",
   "version": "3.12.4"
  }
 },
 "nbformat": 4,
 "nbformat_minor": 5
}
