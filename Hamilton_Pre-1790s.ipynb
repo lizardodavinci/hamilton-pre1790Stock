{
 "cells": [
  {
   "cell_type": "markdown",
   "execution_count": 37
   "id": "ceb8cb87-005a-4875-961a-e88003cde91b",
   "metadata": {},
   "source": [
       "# Bond Biography: Pre-1790s Stock \n",
       "\n",
       "## Overview\n", 
       "The Hamilton Refinancing.\n",
       "\n",
       "## Different types of Loans Continental Government Secured\n",
       "- **Loan Office Certificates:** The Currency Sixes were issued between 1862 and 1869.\n",
       "- **Liquidated Debt Certificates:** These bonds had a coupon rate of 6%, paid semi-annually.\n",
       "- **Debt Certificates by John Pierce:** The bonds had varied maturity dates, typically ranging from 10 to 30 years.\n",
       "- **Other Credits:** The bonds were typically issued with a principal value of $1,000.\n",
      ]
     },
     "execution_count": 37,
     "metadata": {},
     "output_type": "execute_result"
    }
   ],
   "source": [
    "{\n",
    " \"cells\": [\n",
    "  {\n",
    "   \"cell_type\": \"markdown\",\n",
    "   \"id\": \"2b4d48c3\",\n",
    "   \"metadata\": {},\n",
    "   \"source\": [\n",
    "    \"# Bond Biography: The Currency Sixes\\n\",\n",
    "    \"\\n\",\n",
    "    \"## Overview\\n\",\n",
    "    \"The Currency Sixes bonds were instrumental in financing the construction of the Transcontinental Railroads in the United States. These bonds played a crucial role in the economic development of the country during the 19th century.\\n\",\n",
    "    \"\\n\",\n",
    "    \"## Features of the Bond\\n\",\n",
    "    \"- **Issue Date:** The Currency Sixes were issued between 1862 and 1869.\\n\",\n",
    "    \"- **Coupon Rate:** These bonds had a coupon rate of 6%, paid semi-annually.\\n\",\n",
    "    \"- **Maturity Date:** The bonds had varied maturity dates, typically ranging from 10 to 30 years.\\n\",\n",
    "    \"- **Principal Value:** The bonds were typically issued with a principal value of $1,000.\\n\",\n",
    "    \"- **Call Features:** The bonds were callable after 10 years.\"\n",
    "   ]\n",
    "      }\n",
    "  ]\n",
    "}"
   ]
  },
  {
   "cell_type": "code",
   "execution_count": null,
   "id": "b2bf0596-2361-46bc-a960-ea204b5c023f",
   "metadata": {},
   "outputs": [],
   "source": []
  }
 ],
 "metadata": {
  "kernelspec": {
   "display_name": "Python 3 (ipykernel)",
   "language": "python",
   "name": "python3"
  },
  "language_info": {
   "codemirror_mode": {
    "name": "ipython",
    "version": 3
   },
   "file_extension": ".py",
   "mimetype": "text/x-python",
   "name": "python",
   "nbconvert_exporter": "python",
   "pygments_lexer": "ipython3",
   "version": "3.12.4"
  }
 },
 "nbformat": 4,
 "nbformat_minor": 5
}
