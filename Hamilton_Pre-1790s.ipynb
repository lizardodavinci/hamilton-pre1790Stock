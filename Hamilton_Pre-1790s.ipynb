{
 "cells": [
  {
   "cell_type": "markdown",
   "id": "ceb8cb87-005a-4875-961a-e88003cde91b",
   "metadata": {},
   "source": [
    "# Bond Biography: Pre-1790s Stock \n",
    "\n",
    "## Overview\n", 
    "The Hamilton Refinancing. A working collaboration with information gathered from Battle Plan.\n",
    "\n",
    "## The First Two Years:\n", 
    "  - From the outset of the American Revolution, the war was funded through a balance of private and public loans. The largest loans came from France and Spain and paying them back gives us the entire premise of what's to follow in this document. Congress also began printing Continentals; which quickly lost value as they were not backed by any physical asset. As this currency rapidly depreciated in value, there needed to be new avenues of funding and paying back national debt. Here they are!\n",
    "## Funding Between 1776-1780s\n",
    "- **Loan Office Certificates:**\n",
    "  - Totals: Between December 1776 and December 1781, there were 80,913 loan office certificates issued to 17,264 individuals and firms.\n",
    "  - Developed following Congressional vote to borrow $5M Continental dollars [October 3, 1776].\n",
    "  - Typical principal values were between 200 and 10,000 in Continental dollars. Each State had a unique loan office commissioner responsible for keeping track of accounts and paying coupons. Principal payments were due in 1787.\n",
    "  - The initial coupon rate of 4% in 1776 was not appealing to private investors. In January/February 1777, Congress provided $15M in new loans and raised interest rate to 6%.\n",
    "  - Prior to March 1, 1778, coupon payments made in bills of exchange could be redeemed in France (Spanish dollars). Since certificates were bought with Continental dollars, the rapidly decreasing value of the Continental dollar pushed rates of return from 7% to 30%.\n",
    "  - Certificates issued between March 1778 and May 1781 were paid in Continental dollars. Meaning they were a fraction of the original return. Coupon payments ceased in 1780 because Congress suspended payment in paper money.\n",
    "  - Continental government issued 4x the bills of credit than issued loan office certificates.\n",
    "  - **Definition: Bill of Credit** - a note issued by the government on its own credit with an implication to circulate as money. Represents indebtedness to the holder.\n",
    "  - Loan Office Certificates were used to purchase goods and supplies through the Quartermaster and Commissary departments.\n",
    "- **Buyers of Loan Office Certificates:**\n",
    "  - Of the 17,264 recorded individuals/firms with holdings, most were small investors with total purchases directly from the loan under $100 in specie.\n",
    "  - Many well-known founding fathers purchased loan office certificates, namely Adams, Franklin, Washington, Schuyler, and Arnold.\n",
    "  - Top purchasers of these certificates were primarily men responsible for supplying the Army. That is, these loans were used to fund supplies directly.\n",
    "  - Example: John Jacob Faish, 1780, was contracted to produce shells and cannons. After completion, the Continental Congress authorized a warrant issue from the loan office on April 17, 1780. On the same day, the Pennsylvania Loan Office issued Faish 816 certificates with a face value of $464,500. Throughout the war, there were 839 certificates and $483,400 in value. Unfortunately, Faish was never fully repaid with the 'present Situation of the Treasury' cited as lack of ability to further pay.\n",
    "- **Revisions of Loan Office Certificates:**\n",
    "  - June 28, 1780: Congress made changes to promises on certificates. Certificates issued on/prior to September 1, 1777 were unaffected. Those sold after September 1, 1777 lowered the number of Spanish dollars promised in principal and coupon based on a depreciation schedule. That is, down to 'specie value'.\n",
    "- **Marketability of Loan Office Certificates:**\n",
    "  - Increasing interest on loan certificates created more demand for the certificates.\n",
    "  - Why were these certificates seemingly more appealing to smaller scale investors? Since these certificates were heavily used to supply the army, these were quick contractual notes issued to those who were building ammunition, wielding, etc.\n",
    "- **Commentary on Loan Office Certificates:** An attempt to provide a relatively stable flow of funding for the early years of the War.\n",
    "- **Liquidated Debt Certificates:** lallaalallalala will fill in.\n",
    "- **Debt Certificates by John Pierce:** lalallalal dooodododood.\n",
    "- **Other Credits:** intelligent things.\n"
   ]
  },
  {
   "cell_type": "code",
   "execution_count": null,
   "id": "b2bf0596-2361-46bc-a960-ea204b5c023f",
   "metadata": {},
   "outputs": [],
   "source": []
  }
 ],
 "metadata": {
  "kernelspec": {
   "display_name": "Python 3 (ipykernel)",
   "language": "python",
   "name": "python3"
  },
  "language_info": {
   "codemirror_mode": {
    "name": "ipython",
    "version": 3
   },
   "file_extension": ".py",
   "mimetype": "text/x-python",
   "name": "python",
   "nbconvert_exporter": "python",
   "pygments_lexer": "ipython3",
   "version": "3.12.4"
  }
 },
 "nbformat": 4,
 "nbformat_minor": 5
}
